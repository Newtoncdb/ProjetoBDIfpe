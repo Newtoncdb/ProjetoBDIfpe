{
 "cells": [
  {
   "cell_type": "code",
   "execution_count": 2,
   "metadata": {},
   "outputs": [],
   "source": [
    "import sqlite3"
   ]
  },
  {
   "cell_type": "code",
   "execution_count": 3,
   "metadata": {},
   "outputs": [],
   "source": [
    "import sqlite3 as db\n",
    "#import pandas as pd"
   ]
  },
  {
   "cell_type": "code",
   "execution_count": 4,
   "metadata": {},
   "outputs": [],
   "source": [
    "import pandas as pd"
   ]
  },
  {
   "cell_type": "code",
   "execution_count": 5,
   "metadata": {},
   "outputs": [],
   "source": [
    "conn = db.connect('LabBancoIfpe.db')\n",
    "cursor = conn.cursor()"
   ]
  },
  {
   "cell_type": "code",
   "execution_count": 6,
   "metadata": {},
   "outputs": [
    {
     "ename": "OperationalError",
     "evalue": "table cargos already exists",
     "output_type": "error",
     "traceback": [
      "\u001b[1;31m---------------------------------------------------------------------------\u001b[0m",
      "\u001b[1;31mOperationalError\u001b[0m                          Traceback (most recent call last)",
      "Cell \u001b[1;32mIn[6], line 7\u001b[0m\n\u001b[0;32m      1\u001b[0m create_cliente_table \u001b[39m=\u001b[39m \u001b[39m'''\u001b[39m\n\u001b[0;32m      2\u001b[0m \u001b[39m    CREATE TABLE cargos (\u001b[39m\n\u001b[0;32m      3\u001b[0m \u001b[39m  id INTEGER PRIMARY KEY AUTOINCREMENT,\u001b[39m\n\u001b[0;32m      4\u001b[0m \u001b[39m  cargo VARCHAR(50)\u001b[39m\n\u001b[0;32m      5\u001b[0m \u001b[39m);\u001b[39m\n\u001b[0;32m      6\u001b[0m \u001b[39m'''\u001b[39m\n\u001b[1;32m----> 7\u001b[0m cursor\u001b[39m.\u001b[39;49mexecute(create_cliente_table)\n",
      "\u001b[1;31mOperationalError\u001b[0m: table cargos already exists"
     ]
    }
   ],
   "source": [
    "create_cliente_table = '''\n",
    "    CREATE TABLE cargos (\n",
    "  id INTEGER PRIMARY KEY AUTOINCREMENT,\n",
    "  cargo VARCHAR(50)\n",
    ");\n",
    "'''\n",
    "cursor.execute(create_cliente_table)"
   ]
  },
  {
   "cell_type": "code",
   "execution_count": null,
   "metadata": {},
   "outputs": [],
   "source": [
    "create_cliente_table = '''\n",
    "    CREATE TABLE cargos (\n",
    "  id INTEGER PRIMARY KEY AUTOINCREMENT,\n",
    "  cargo VARCHAR(50)\n",
    ");\n",
    "'''\n",
    "cursor.execute(create_cliente_table)"
   ]
  },
  {
   "cell_type": "code",
   "execution_count": null,
   "metadata": {},
   "outputs": [],
   "source": []
  },
  {
   "cell_type": "code",
   "execution_count": 6,
   "metadata": {},
   "outputs": [
    {
     "data": {
      "text/plain": [
       "<sqlite3.Cursor at 0x228f7c38880>"
      ]
     },
     "execution_count": 6,
     "metadata": {},
     "output_type": "execute_result"
    }
   ],
   "source": [
    "create_unidades_table = '''\n",
    "    CREATE TABLE unidades (\n",
    "  id INTEGER PRIMARY KEY AUTOINCREMENT,\n",
    "  unidade VARCHAR(50)\n",
    ");\n",
    "'''\n",
    "cursor.execute(create_unidades_table)"
   ]
  },
  {
   "cell_type": "code",
   "execution_count": 7,
   "metadata": {},
   "outputs": [
    {
     "data": {
      "text/plain": [
       "<sqlite3.Cursor at 0x228f7c38880>"
      ]
     },
     "execution_count": 7,
     "metadata": {},
     "output_type": "execute_result"
    }
   ],
   "source": [
    "create_servidores_table = '''\n",
    "    CREATE TABLE servidores (\n",
    "  id INTEGER PRIMARY KEY AUTOINCREMENT,\n",
    "  nome VARCHAR(50),\n",
    "  cargo_id INTEGER,\n",
    "  unidade_id INTEGER,\n",
    "  FOREIGN KEY (cargo_id) REFERENCES cargos(id),\n",
    "  FOREIGN KEY (unidade_id) REFERENCES unidades(id)\n",
    ");\n",
    "'''\n",
    "cursor.execute(create_servidores_table)"
   ]
  },
  {
   "cell_type": "code",
   "execution_count": 24,
   "metadata": {},
   "outputs": [
    {
     "ename": "ProgrammingError",
     "evalue": "Incorrect number of bindings supplied. The current statement uses 1, and there are 9 supplied.",
     "output_type": "error",
     "traceback": [
      "\u001b[1;31m---------------------------------------------------------------------------\u001b[0m",
      "\u001b[1;31mProgrammingError\u001b[0m                          Traceback (most recent call last)",
      "Cell \u001b[1;32mIn[24], line 11\u001b[0m\n\u001b[0;32m      1\u001b[0m cargos \u001b[39m=\u001b[39m [\n\u001b[0;32m      2\u001b[0m (\u001b[39m'\u001b[39m\u001b[39mProfessor\u001b[39m\u001b[39m'\u001b[39m),\n\u001b[0;32m      3\u001b[0m (\u001b[39m'\u001b[39m\u001b[39mAnalista\u001b[39m\u001b[39m'\u001b[39m),\n\u001b[0;32m      4\u001b[0m (\u001b[39m'\u001b[39m\u001b[39mTecnico\u001b[39m\u001b[39m'\u001b[39m),\n\u001b[0;32m      5\u001b[0m (\u001b[39m'\u001b[39m\u001b[39mContador\u001b[39m\u001b[39m'\u001b[39m),\n\u001b[0;32m      6\u001b[0m ]\n\u001b[0;32m      7\u001b[0m insert_cargos_query \u001b[39m=\u001b[39m \u001b[39m'''\u001b[39m\n\u001b[0;32m      8\u001b[0m \u001b[39m    INSERT INTO cargos (cargo)\u001b[39m\n\u001b[0;32m      9\u001b[0m \u001b[39m    VALUES (?)\u001b[39m\n\u001b[0;32m     10\u001b[0m \u001b[39m    \u001b[39m\u001b[39m'''\u001b[39m\n\u001b[1;32m---> 11\u001b[0m cursor\u001b[39m.\u001b[39;49mexecutemany(insert_cargos_query, cargos)    \n",
      "\u001b[1;31mProgrammingError\u001b[0m: Incorrect number of bindings supplied. The current statement uses 1, and there are 9 supplied."
     ]
    }
   ],
   "source": [
    "cargos = [\n",
    "('Professor'),\n",
    "('Analista'),\n",
    "('Tecnico'),\n",
    "('Contador'),\n",
    "]\n",
    "insert_cargos_query = '''\n",
    "    INSERT INTO cargos (cargo)\n",
    "    VALUES (?)\n",
    "    '''\n",
    "cursor.executemany(insert_cargos_query, cargos)    "
   ]
  },
  {
   "cell_type": "code",
   "execution_count": 25,
   "metadata": {},
   "outputs": [
    {
     "ename": "OperationalError",
     "evalue": "table cargos has no column named escolaridade",
     "output_type": "error",
     "traceback": [
      "\u001b[1;31m---------------------------------------------------------------------------\u001b[0m",
      "\u001b[1;31mOperationalError\u001b[0m                          Traceback (most recent call last)",
      "Cell \u001b[1;32mIn[25], line 1\u001b[0m\n\u001b[1;32m----> 1\u001b[0m cursor\u001b[39m.\u001b[39;49mexecute(\u001b[39m\"\u001b[39;49m\u001b[39mINSERT INTO cargos (cargo, escolaridade) VALUES (\u001b[39;49m\u001b[39m'\u001b[39;49m\u001b[39mProfessor\u001b[39;49m\u001b[39m'\u001b[39;49m\u001b[39m, \u001b[39;49m\u001b[39m'\u001b[39;49m\u001b[39mMestrado\u001b[39;49m\u001b[39m'\u001b[39;49m\u001b[39m)\u001b[39;49m\u001b[39m\"\u001b[39;49m)\n\u001b[0;32m      2\u001b[0m cursor\u001b[39m.\u001b[39mexecute(\u001b[39m\"\u001b[39m\u001b[39mINSERT INTO cargos (cargo, escolaridade) VALUES (\u001b[39m\u001b[39m'\u001b[39m\u001b[39mAnalista\u001b[39m\u001b[39m'\u001b[39m\u001b[39m, \u001b[39m\u001b[39m'\u001b[39m\u001b[39mGraduação\u001b[39m\u001b[39m'\u001b[39m\u001b[39m)\u001b[39m\u001b[39m\"\u001b[39m)\n\u001b[0;32m      3\u001b[0m cursor\u001b[39m.\u001b[39mexecute(\u001b[39m\"\u001b[39m\u001b[39mINSERT INTO cargos (cargo, escolaridade) VALUES (\u001b[39m\u001b[39m'\u001b[39m\u001b[39mTecnico\u001b[39m\u001b[39m'\u001b[39m\u001b[39m, \u001b[39m\u001b[39m'\u001b[39m\u001b[39mEnsino Médio\u001b[39m\u001b[39m'\u001b[39m\u001b[39m)\u001b[39m\u001b[39m\"\u001b[39m)\n",
      "\u001b[1;31mOperationalError\u001b[0m: table cargos has no column named escolaridade"
     ]
    }
   ],
   "source": [
    "cursor.execute(\"INSERT INTO cargos (cargo, escolaridade) VALUES ('Professor', 'Mestrado')\")\n",
    "cursor.execute(\"INSERT INTO cargos (cargo, escolaridade) VALUES ('Analista', 'Graduação')\")\n",
    "cursor.execute(\"INSERT INTO cargos (cargo, escolaridade) VALUES ('Tecnico', 'Ensino Médio')\")\n",
    "cursor.execute(\"INSERT INTO cargos (cargo, escolaridade) VALUES ('Contador', 'Graduação')\")\n",
    "cursor.execute(\"INSERT INTO cargos (cargo, escolaridade) VALUES ('Biomedico', 'Graduação')\")\n",
    "cursor.execute(\"INSERT INTO cargos (cargo, escolaridade) VALUES ('Administrador', 'Graduação')\")\n",
    "cursor.execute(\"INSERT INTO cargos (cargo, escolaridade) VALUES ('Fisico', 'Doutorado')\")\n",
    "cursor.execute(\"INSERT INTO cargos (cargo, escolaridade) VALUES ('Musico', 'Ensino Médio')\")\n",
    "conexao.commit()"
   ]
  },
  {
   "cell_type": "code",
   "execution_count": 22,
   "metadata": {},
   "outputs": [
    {
     "name": "stdout",
     "output_type": "stream",
     "text": [
      "('Chico Lopes', 'Professor', 'Abreu e Lima')\n",
      "('Tiberio', 'Analista', 'Escada')\n",
      "('Asdrubal', 'Tecnico', 'Ipojuca')\n",
      "('Epaminondas', 'Contador', 'Palmares')\n",
      "('Lia de Itamaraca', 'Biomedico', 'Olinda')\n",
      "('Andre Rio', 'Administrador', 'Igarassu')\n",
      "('Reginaldo Rossi', 'Assistente', 'Afogados da Ingazeira')\n",
      "('Gonzaga', 'Secretario', 'Pesqueira')\n"
     ]
    }
   ],
   "source": [
    "cursor.execute('''\n",
    "    SELECT servidores.nome, cargos.cargo, unidades.unidade\n",
    "    FROM servidores\n",
    "    INNER JOIN cargos ON servidores.cargo_id = cargos.id\n",
    "    INNER JOIN unidades ON servidores.unidade_id = unidades.id\n",
    "''')\n",
    "\n",
    "# %%\n",
    "# Obter o resultado da consulta\n",
    "result = cursor.fetchall()\n",
    "\n",
    "# Exibir o resultado\n",
    "for row in result:\n",
    "    print(row)"
   ]
  },
  {
   "cell_type": "code",
   "execution_count": 26,
   "metadata": {},
   "outputs": [
    {
     "name": "stdout",
     "output_type": "stream",
     "text": [
      "('Chico Lopes', 'Professor', 'Abreu e Lima')\n",
      "('Tiberio', 'Analista', 'Escada')\n",
      "('Asdrubal', 'Tecnico', 'Ipojuca')\n",
      "('Epaminondas', 'Contador', 'Palmares')\n",
      "('Lia de Itamaraca', 'Biomedico', 'Olinda')\n",
      "('Andre Rio', 'Administrador', 'Igarassu')\n",
      "('Reginaldo Rossi', 'Assistente', 'Afogados da Ingazeira')\n",
      "('Gonzaga', 'Secretario', 'Pesqueira')\n"
     ]
    }
   ],
   "source": [
    "cursor.execute('''\n",
    "    SELECT servidores.nome, cargos.cargo, unidades.unidade\n",
    "    FROM servidores\n",
    "    INNER JOIN cargos ON servidores.cargo_id = cargos.id\n",
    "    INNER JOIN unidades ON servidores.unidade_id = unidades.id\n",
    "''')\n",
    "\n",
    "# %%\n",
    "# Obter o resultado da consulta\n",
    "result = cursor.fetchall()\n",
    "\n",
    "# Exibir o resultado\n",
    "for row in result:\n",
    "    print(row)"
   ]
  },
  {
   "cell_type": "code",
   "execution_count": null,
   "metadata": {},
   "outputs": [],
   "source": []
  },
  {
   "cell_type": "code",
   "execution_count": 27,
   "metadata": {},
   "outputs": [
    {
     "data": {
      "text/plain": [
       "('Gonzaga', 'Secretario')"
      ]
     },
     "execution_count": 27,
     "metadata": {},
     "output_type": "execute_result"
    }
   ],
   "source": [
    "linha"
   ]
  },
  {
   "cell_type": "code",
   "execution_count": 28,
   "metadata": {},
   "outputs": [
    {
     "data": {
      "text/plain": [
       "[('Chico Lopes', 'Professor'),\n",
       " ('Tiberio', 'Analista'),\n",
       " ('Asdrubal', 'Tecnico'),\n",
       " ('Epaminondas', 'Contador'),\n",
       " ('Lia de Itamaraca', 'Biomedico'),\n",
       " ('Andre Rio', 'Administrador'),\n",
       " ('Reginaldo Rossi', 'Assistente'),\n",
       " ('Gonzaga', 'Secretario')]"
      ]
     },
     "execution_count": 28,
     "metadata": {},
     "output_type": "execute_result"
    }
   ],
   "source": [
    "resultado"
   ]
  },
  {
   "cell_type": "code",
   "execution_count": 29,
   "metadata": {},
   "outputs": [
    {
     "ename": "OperationalError",
     "evalue": "duplicate column name: escolaridade",
     "output_type": "error",
     "traceback": [
      "\u001b[1;31m---------------------------------------------------------------------------\u001b[0m",
      "\u001b[1;31mOperationalError\u001b[0m                          Traceback (most recent call last)",
      "Cell \u001b[1;32mIn[29], line 1\u001b[0m\n\u001b[1;32m----> 1\u001b[0m cursor\u001b[39m.\u001b[39;49mexecute(\u001b[39m'''\u001b[39;49m\n\u001b[0;32m      2\u001b[0m \u001b[39m    ALTER TABLE cargos\u001b[39;49m\n\u001b[0;32m      3\u001b[0m \u001b[39m    ADD COLUMN escolaridade varchar(50)\u001b[39;49m\n\u001b[0;32m      4\u001b[0m \u001b[39m'''\u001b[39;49m)\n\u001b[0;32m      7\u001b[0m conn\u001b[39m.\u001b[39mcommit()\n",
      "\u001b[1;31mOperationalError\u001b[0m: duplicate column name: escolaridade"
     ]
    }
   ],
   "source": [
    "cursor.execute('''\n",
    "    ALTER TABLE cargos\n",
    "    ADD COLUMN escolaridade varchar(50)\n",
    "''')\n",
    "\n",
    "\n",
    "conn.commit()"
   ]
  },
  {
   "cell_type": "code",
   "execution_count": null,
   "metadata": {},
   "outputs": [],
   "source": [
    "cursor.execute('''\n",
    "    UPDATE escolaridade\n",
    "    SET idade = 30\n",
    "    WHERE nome = 'Chico Tripa'\n",
    "''')\n",
    "\n",
    "# %%\n",
    "# Confirmar as alterações na tabela\n",
    "conn.commit()\n",
    "\n",
    "\n",
    "\n",
    "\n",
    "\n"
   ]
  },
  {
   "cell_type": "code",
   "execution_count": null,
   "metadata": {},
   "outputs": [],
   "source": [
    "cursor.execute('''\n",
    "    UPDATE cargos\n",
    "    SET escolaridade = \n",
    "        CASE\n",
    "            WHEN id = 1 THEN 'Doutorado'\n",
    "            WHEN id = 2 THEN 'Pós-Graduação'\n",
    "            WHEN id = 3 THEN 'Ensino Médio'\n",
    "            WHEN id = 4 THEN 'Doutorado'\n",
    "            WHEN id = 5 THEN 'Pós-Graduação'\n",
    "            WHEN id = 6 THEN 'Ensino Médio'\n",
    "            WHEN id = 7 THEN 'Pós-Graduação'\n",
    "            WHEN id = 8 THEN 'Mestrado'\n",
    "            ELSE 'Graduação'\n",
    "        END\n",
    "    WHERE id IN (1, 2, 3, 4, 5, 6, 7, 8) -- IDs das linhas que deseja atualizar\n",
    "''')\n",
    "\n",
    "# %%\n",
    "# Confirmar as alterações na tabela\n",
    "conn.commit()"
   ]
  },
  {
   "cell_type": "code",
   "execution_count": null,
   "metadata": {},
   "outputs": [],
   "source": [
    "cursor.execute('''\n",
    "    UPDATE \n",
    "    cargos\n",
    "    SET escolaridade = \n",
    "        CASE\n",
    "            WHEN id = 1 THEN 'Doutorado'\n",
    "            WHEN id = 2 THEN 'Pós-Graduação'\n",
    "            WHEN id = 3 THEN 'Ensino Médio'\n",
    "            ELSE 'Graduação'\n",
    "        END\n",
    "    WHERE id IN (1, 2, 3, 4) -- IDs das linhas que deseja atualizar\n",
    "''')\n",
    "\n",
    "# %%\n",
    "# Confirmar as alterações na tabela\n",
    "conn.commit()"
   ]
  },
  {
   "cell_type": "code",
   "execution_count": null,
   "metadata": {},
   "outputs": [],
   "source": [
    "cursor.execute('''\n",
    "    UPDATE Servidores\n",
    "    SET unidade_id = \n",
    "        CASE\n",
    "            WHEN id = 1 THEN '1'\n",
    "            WHEN id = 2 THEN '2'\n",
    "            WHEN id = 3 THEN '3'\n",
    "            WHEN id = 4 THEN '4'\n",
    "            WHEN id = 5 THEN '5'\n",
    "            WHEN id = 6 THEN '6'\n",
    "            WHEN id = 7 THEN '7'\n",
    "            WHEN id = 8 THEN '8'\n",
    "            \n",
    "            \n",
    "            ELSE 'Graduação'\n",
    "        END\n",
    "    WHERE id IN (1, 2, 3, 4, 5, 6, 7, 8 )-- IDs das linhas que deseja atualizar\n",
    "''')\n",
    "\n",
    "# %%\n",
    "# Confirmar as alterações na tabela\n",
    "conn.commit()"
   ]
  }
 ],
 "metadata": {
  "kernelspec": {
   "display_name": "Python 3",
   "language": "python",
   "name": "python3"
  },
  "language_info": {
   "codemirror_mode": {
    "name": "ipython",
    "version": 3
   },
   "file_extension": ".py",
   "mimetype": "text/x-python",
   "name": "python",
   "nbconvert_exporter": "python",
   "pygments_lexer": "ipython3",
   "version": "3.8.10"
  },
  "orig_nbformat": 4
 },
 "nbformat": 4,
 "nbformat_minor": 2
}
